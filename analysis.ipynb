{
 "cells": [
  {
   "cell_type": "markdown",
   "metadata": {},
   "source": [
    "# 读取数据去重"
   ]
  },
  {
   "cell_type": "code",
   "execution_count": null,
   "metadata": {},
   "outputs": [],
   "source": [
    "from common import read\n",
    "from common import plot_df, plot_district, plot\n",
    "import pandas as pd\n",
    "MA = True\n",
    "ma_length = 30\n",
    "start_date = '2014-01-01'\n",
    "\n",
    "def plotCity(df):\n",
    "    gp = df.groupby(['成交时间'])['成交价(元/平)']\n",
    "    res=pd.DataFrame({\"volume\":gp.size(),\"median_price\":gp.median(), \"mean_price\":gp.mean()})\n",
    "    res = res.iloc[:len(res)-1,:]\n",
    "    title = city\n",
    "    plot(res, city, title, MA, ma_length, start_date)\n",
    "\n",
    "    districts = list(df['下辖区'].unique())\n",
    "    for district in districts:\n",
    "        if str(district) != 'nan':\n",
    "            plot_district(df, city, district, ma_length, start_date)\n",
    "    return df"
   ]
  },
  {
   "cell_type": "code",
   "execution_count": null,
   "metadata": {
    "scrolled": false
   },
   "outputs": [],
   "source": [
    "cityList = ['北京', '上海', '深圳', '杭州', '广州', '长沙', '厦门', '宁波', '合肥', '成都','重庆','武汉',\n",
    "            '西安','石家庄','苏州','南京', '大连']\n",
    "cityList = ['苏州','南京', '大连']\n",
    "data = {}\n",
    "for city in cityList:\n",
    "    df = read(city)\n",
    "    data[city] = df\n",
    "    plotCity(df)"
   ]
  },
  {
   "cell_type": "code",
   "execution_count": null,
   "metadata": {
    "scrolled": false
   },
   "outputs": [],
   "source": [
    "MA = True\n",
    "ma_length = 30\n",
    "start_date = None;'2015-01-01'\n",
    "city = 'all'\n",
    "df = read(city)\n",
    "print(list(df.下辖区.unique()))\n",
    "print(len(df))\n",
    "df=plotCity(df)"
   ]
  },
  {
   "cell_type": "code",
   "execution_count": null,
   "metadata": {},
   "outputs": [],
   "source": [
    "from common import read\n",
    "cityList = ['北京', '上海', '深圳', '杭州', '广州', '长沙', '厦门', '宁波', '合肥', \n",
    "'成都','重庆', '石家庄', '苏州','南京','大连']\n",
    "for city in cityList:\n",
    "    df = read(city)\n",
    "    df.to_csv('data/all/%s.csv'%city, index=False)"
   ]
  },
  {
   "cell_type": "code",
   "execution_count": null,
   "metadata": {},
   "outputs": [],
   "source": [
    "xiaoqu= open('xiaoqu/dlxiaoqu.txt', 'w')\n",
    "xiaoquList = df['小区'].unique()\n",
    "print(len(xiaoquList))\n",
    "for xq in xiaoquList:\n",
    "    if str(xq) != 'nan':\n",
    "        xiaoqu.write(xq+'\\n')\n",
    "    \n",
    "xiaoqu.close()"
   ]
  },
  {
   "cell_type": "code",
   "execution_count": null,
   "metadata": {},
   "outputs": [],
   "source": [
    "df['下辖区'].unique()"
   ]
  },
  {
   "cell_type": "code",
   "execution_count": null,
   "metadata": {},
   "outputs": [],
   "source": [
    "from common import plot_dfs\n",
    "import pandas as pd\n",
    "def plotDianti(df):\n",
    "    pd.options.display.max_columns = None\n",
    "    df_dt= df.loc[df['电梯'] == '有']\n",
    "    df_ndt= df.loc[df['电梯'] != '有']\n",
    "    print('有电梯', len(df_dt))\n",
    "    print('无电梯',len(df_ndt))\n",
    "    plot_dfs([df_ndt,df_dt], '%s有无电梯'%city, ['无电梯', '电梯'], 30, '2015-01-01')\n",
    "for city in cityList:\n",
    "    df = read(city)\n",
    "    plotDianti(df)"
   ]
  },
  {
   "cell_type": "code",
   "execution_count": null,
   "metadata": {
    "scrolled": true
   },
   "outputs": [],
   "source": [
    "from common import plot_df\n",
    "df_sjs = df.loc[df['下辖区']=='石景山']\n",
    "xiaoquList = df_sjs['小区'].unique()\n",
    "for xiaoqu in xiaoquList:\n",
    "    plot_df(df_sjs.loc[df_sjs[\"小区\"]== xiaoqu], \"石景山\", xiaoqu, True, 10)"
   ]
  },
  {
   "cell_type": "code",
   "execution_count": null,
   "metadata": {},
   "outputs": [],
   "source": [
    "import pandas as pd\n",
    "x=df_sjs.groupby('小区')\n",
    "\n",
    "x_mean  = x.mean()\n",
    "x_size = x.size()\n",
    "x_mean = x_mean.merge(pd.DataFrame({'size':x_size}), left_index = True, right_index = True)\n",
    "x_mean=x_mean.loc[x_size>=5]\n",
    "x_mean=x_mean.sort_values(by='成交价(元/平)', ascending=False).loc[:,[\"建筑面积\",\"成交价(元/平)\",\"售价(万)\", 'size']]\n",
    "x_mean"
   ]
  },
  {
   "cell_type": "code",
   "execution_count": null,
   "metadata": {
    "scrolled": true
   },
   "outputs": [],
   "source": [
    "from common import plot, plot_dfs, plot_df\n",
    "MA = True\n",
    "ma_length = 10\n",
    "def plot_xiaoqu(xiaoqu, df):\n",
    "    df_xiaoqu = df.dropna(subset=['小区'])\n",
    "    df_xiaoqu = df_xiaoqu.loc[df_xiaoqu['小区'].str.contains(xiaoqu)]\n",
    "    #plot_dfs([df, df_xiaoqu], xiaoqu, ['全市', xiaoqu], ma_length, '2015-01-01')\n",
    "    plot_df(df_xiaoqu, city, xiaoqu, MA, ma_length)\n",
    "    \n",
    "ma_length = 30\n",
    "#plot_xiaoqu('八角', data['北京'])\n",
    "plot_xiaoqu('观林园', df)"
   ]
  },
  {
   "cell_type": "code",
   "execution_count": null,
   "metadata": {
    "scrolled": true
   },
   "outputs": [],
   "source": [
    "pd.options.display.max_columns = None\n",
    "#df.loc[df['小区'].str.contains('团结湖南里')]\n",
    "df.loc[df['小区'].str.contains('爱乐')].sort_values(by='成交时间', ascending=False)\n",
    "#df.loc[df['小区'].str.contains('平乐园')].sort_values(by='成交时间', ascending=False)"
   ]
  },
  {
   "cell_type": "code",
   "execution_count": null,
   "metadata": {},
   "outputs": [],
   "source": [
    "x=df.groupby('小区')\n",
    "x_mean  = x.mean()\n",
    "x_size = x.size()\n",
    "#x_size\n",
    "x_mean=x_mean.loc[x_size>=1]\n",
    "x_mean=x_mean.sort_values(by='成交价(元/平)', ascending=False).loc[:,[\"建筑面积\",\"成交价(元/平)\",\"售价(万)\"]]\n",
    "x_mean"
   ]
  },
  {
   "cell_type": "code",
   "execution_count": null,
   "metadata": {},
   "outputs": [],
   "source": [
    "x_mean.index[:10]"
   ]
  },
  {
   "cell_type": "code",
   "execution_count": null,
   "metadata": {},
   "outputs": [],
   "source": [
    "df.sort_values('售价(万)', ascending=False).loc[:,[\"小区\", \"建筑面积\",\"成交价(元/平)\", \"售价(万)\"]]"
   ]
  },
  {
   "cell_type": "code",
   "execution_count": null,
   "metadata": {},
   "outputs": [],
   "source": [
    "df.sort_values('成交价(元/平)', ascending=False).loc[:,[\"小区\", \"建筑面积\",\"成交价(元/平)\", \"售价(万)\",\"成交时间\"]]"
   ]
  },
  {
   "cell_type": "code",
   "execution_count": null,
   "metadata": {},
   "outputs": [],
   "source": [
    "ma_length = 10\n",
    "mean_price = df['成交价(元/平)'].mean()\n",
    "price_std = df['成交价(元/平)'].std()\n",
    "print('mean:', mean_price, 'std:', price_std)\n",
    "threshold = 1.3\n",
    "#high_df = df.loc[df['成交价(元/平)']>= mean_price + threshold * price_std]\n",
    "#low_df =  df.loc[df['成交价(元/平)']< mean_price - threshold* price_std]\n",
    "#medium_df = df.loc[df['成交价(元/平)']< mean_price + threshold * price_std]\n",
    "#medium_df = medium_df.loc[medium_df['成交价(元/平)']>= mean_price - threshold * price_std]\n",
    "sort_key = '成交价(元/平)'#\n",
    "#sort_key = '售价(万)'\n",
    "df = df.sort_values(sort_key, ascending = False)\n",
    "count = len(df)//3\n",
    "high_df = df.iloc[:count]\n",
    "low_df = df.iloc[-count:]\n",
    "medium_df = df.iloc[count:-count]\n",
    "print(len(high_df), len(low_df), len(medium_df))\n",
    "print(high_df[sort_key].mean(), medium_df[sort_key].mean(), low_df[sort_key].mean() )\n",
    "ma_length = 30\n",
    "def getPriceSeries(df):\n",
    "    gp = df.groupby(['成交时间'])['成交价(元/平)']\n",
    "    res=pd.DataFrame({\"volume\":gp.size(),\"median_price\":gp.median(), \"mean_price\":gp.mean()})\n",
    "    res = res.sort_index()\n",
    "    res = res.iloc[:len(res)-1]\n",
    "    res = get_moving_average(res, ma_length)\n",
    "    return res\n",
    "highSeries=getPriceSeries(high_df)\n",
    "mediumSeries=getPriceSeries(medium_df)\n",
    "lowSeries=getPriceSeries(low_df)\n"
   ]
  },
  {
   "cell_type": "code",
   "execution_count": null,
   "metadata": {},
   "outputs": [],
   "source": [
    "fig, ax = plt.subplots()\n",
    "ax.plot(highSeries['mean_price']/highSeries['mean_price'][0])\n",
    "ax.plot(mediumSeries['mean_price']/mediumSeries['mean_price'][0])\n",
    "ax.plot(lowSeries['mean_price']/lowSeries['mean_price'][0])\n",
    "plt.xticks(rotation=45)\n",
    "ax.legend(['high=%.f yuan'%(high_df[sort_key].mean()),\n",
    "           'medium=%.f yuan'%medium_df[sort_key].mean(),\n",
    "           'low=%.f yuan'%low_df[sort_key].mean()])\n",
    "xticks = ax.xaxis.get_major_ticks()\n",
    "interval = len(xticks)// 10\n",
    "ax.set_xticks(ax.get_xticks()[::interval])\n",
    "'done'"
   ]
  },
  {
   "cell_type": "code",
   "execution_count": null,
   "metadata": {},
   "outputs": [],
   "source": [
    "plt.axis"
   ]
  },
  {
   "cell_type": "code",
   "execution_count": null,
   "metadata": {},
   "outputs": [],
   "source": [
    "plt.plot(highSeries['median_price']/highSeries['median_price'][0])\n",
    "plt.plot(mediumSeries['median_price']/mediumSeries['median_price'][0])\n",
    "plt.plot(lowSeries['median_price']/lowSeries['median_price'][0])\n",
    "plt.xticks(rotation=90)\n",
    "plt.legend(['high','medium', 'low'])\n"
   ]
  },
  {
   "cell_type": "code",
   "execution_count": null,
   "metadata": {},
   "outputs": [],
   "source": [
    "def plotAllDistrict(df, ma_length = 10):\n",
    "    districts = list(set(df['下辖区']))\n",
    "    legend = ['beijing']\n",
    "    data = []\n",
    "    gp = df.groupby(['成交时间'])['成交价(元/平)']\n",
    "    res=pd.DataFrame({\"volume\":gp.size(),\"median_price\":gp.median(), \"mean_price\":gp.mean()})\n",
    "    res = res.iloc[:len(res)-1,:]\n",
    "    res = get_moving_average(res, ma_length)\n",
    "\n",
    "    data.append(res)\n",
    "    for district in districts:\n",
    "        gp = df.loc[df['下辖区']==district].groupby(['成交时间'])\n",
    "        res = pd.DataFrame({'volume':gp.size(),'mean_price':gp['成交价(元/平)'].mean(), 'median_price':gp['成交价(元/平)'].median()})\n",
    "        res = res.iloc[:len(res) -1,:]\n",
    "        res = get_moving_average(res, ma_length)\n",
    "        if len(res) < 1:\n",
    "            continue\n",
    "        data.append(res)\n",
    "        title = pinyin(district)\n",
    "        if district == '朝阳':\n",
    "            title = 'chao yang'\n",
    "        elif district == '长宁':\n",
    "            title = 'chang ning'\n",
    "        elif district == '闵行':\n",
    "            title = 'min hang'\n",
    "        else:\n",
    "            title = \" \".join([x[0] for x in title])\n",
    "        legend.append(title)\n",
    "   \n",
    "    for i in range(len(data)):\n",
    "        plt.plot(data[i]['mean_price']/data[i]['mean_price'].iloc[0])\n",
    "    plt.xticks(rotation=90)\n",
    "    plt.legend(legend)\n",
    "plotAllDistrict(df, 30)\n",
    "    "
   ]
  },
  {
   "cell_type": "code",
   "execution_count": null,
   "metadata": {},
   "outputs": [],
   "source": [
    "df1 = df.loc[df['售价(万)']>=400]\n",
    "df2 = df1.loc[df1['售价(万)']<=500]\n",
    "df2.to_csv('400-500.csv', index=False, encoding ='gbk')"
   ]
  },
  {
   "cell_type": "code",
   "execution_count": null,
   "metadata": {},
   "outputs": [],
   "source": []
  }
 ],
 "metadata": {
  "kernelspec": {
   "display_name": "Python 3",
   "language": "python",
   "name": "python3"
  },
  "language_info": {
   "codemirror_mode": {
    "name": "ipython",
    "version": 3
   },
   "file_extension": ".py",
   "mimetype": "text/x-python",
   "name": "python",
   "nbconvert_exporter": "python",
   "pygments_lexer": "ipython3",
   "version": "3.6.5"
  }
 },
 "nbformat": 4,
 "nbformat_minor": 2
}
