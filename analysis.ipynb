{
 "cells": [
  {
   "cell_type": "markdown",
   "metadata": {},
   "source": [
    "# 加载函数"
   ]
  },
  {
   "cell_type": "code",
   "execution_count": 1,
   "metadata": {},
   "outputs": [],
   "source": [
    "from common import read\n",
    "from common import plot_df, plot_district, plot\n",
    "import pandas as pd\n",
    "def plotCity(df):\n",
    "    gp = df.groupby(['成交时间'])['成交价(元/平)']\n",
    "    res=pd.DataFrame({\"volume\":gp.size(),\"median_price\":gp.median(), \"mean_price\":gp.mean()})\n",
    "    res = res.iloc[:len(res),:]\n",
    "    title = city\n",
    "    res = plot(res, city, title, MA, ma_length, start_date)\n",
    "    return res\n",
    "def plotAllDistrict(df):\n",
    "    districts = list(df['下辖区'].unique())\n",
    "    for district in districts:\n",
    "        if str(district) != 'nan':\n",
    "            plot_district(df, city, district, ma_length, start_date)"
   ]
  },
  {
   "cell_type": "markdown",
   "metadata": {},
   "source": [
    "# 画各个城市的趋势图"
   ]
  },
  {
   "cell_type": "code",
   "execution_count": 2,
   "metadata": {
    "scrolled": true
   },
   "outputs": [
    {
     "name": "stdout",
     "output_type": "stream",
     "text": [
      "北京\n"
     ]
    },
    {
     "name": "stderr",
     "output_type": "stream",
     "text": [
      "/Users/alex/Quant/code/LianjiaSpider/common.py:87: FutureWarning: Sorting because non-concatenation axis is not aligned. A future version\n",
      "of pandas will change to not sort by default.\n",
      "\n",
      "To accept the future behavior, pass 'sort=True'.\n",
      "\n",
      "To retain the current behavior and silence the warning, pass sort=False\n",
      "\n",
      "  df = pd.concat(dfs)\n",
      "/anaconda3/lib/python3.6/site-packages/matplotlib/font_manager.py:1328: UserWarning: findfont: Font family ['sans-serif'] not found. Falling back to DejaVu Sans\n",
      "  (prop.get_family(), self.defaultFamily[fontext]))\n"
     ]
    },
    {
     "name": "stdout",
     "output_type": "stream",
     "text": [
      "上海\n",
      "深圳\n",
      "杭州\n",
      "广州\n",
      "长沙\n",
      "厦门\n",
      "宁波\n",
      "合肥\n"
     ]
    },
    {
     "name": "stderr",
     "output_type": "stream",
     "text": [
      "/anaconda3/lib/python3.6/site-packages/IPython/core/interactiveshell.py:2903: DtypeWarning: Columns (32) have mixed types. Specify dtype option on import or set low_memory=False.\n",
      "  if self.run_code(code, result):\n"
     ]
    },
    {
     "name": "stdout",
     "output_type": "stream",
     "text": [
      "成都\n",
      "重庆\n",
      "武汉\n",
      "西安\n",
      "石家庄\n",
      "苏州\n",
      "南京\n",
      "大连\n",
      "青岛\n"
     ]
    },
    {
     "name": "stderr",
     "output_type": "stream",
     "text": [
      "/anaconda3/lib/python3.6/site-packages/IPython/core/interactiveshell.py:2903: DtypeWarning: Columns (31) have mixed types. Specify dtype option on import or set low_memory=False.\n",
      "  if self.run_code(code, result):\n"
     ]
    },
    {
     "name": "stdout",
     "output_type": "stream",
     "text": [
      "无锡\n",
      "保定\n",
      "温州\n",
      "廊坊\n"
     ]
    }
   ],
   "source": [
    "import os\n",
    "MA = True\n",
    "ma_length = 30\n",
    "start_date = '2015-01-01'\n",
    "\n",
    "cityList = ['北京', '上海', '深圳', '杭州', '广州', '长沙', '厦门', '宁波', '合肥', '成都','重庆','武汉',\n",
    "            '西安','石家庄','苏州','南京', '大连', '青岛', '无锡', '保定', '温州', '廊坊']\n",
    "#cityList = ['北京', '上海','深圳']\n",
    "#cityList = ['无锡']\n",
    "data = {}\n",
    "res = {}\n",
    "for city in cityList:\n",
    "    print(city)\n",
    "    df = read(city)\n",
    "    data[city] = df\n",
    "    res[city] = plotCity(df)\n",
    "    plotAllDistrict(df)"
   ]
  },
  {
   "cell_type": "code",
   "execution_count": 3,
   "metadata": {},
   "outputs": [
    {
     "data": {
      "text/html": [
       "<div>\n",
       "<style scoped>\n",
       "    .dataframe tbody tr th:only-of-type {\n",
       "        vertical-align: middle;\n",
       "    }\n",
       "\n",
       "    .dataframe tbody tr th {\n",
       "        vertical-align: top;\n",
       "    }\n",
       "\n",
       "    .dataframe thead th {\n",
       "        text-align: right;\n",
       "    }\n",
       "</style>\n",
       "<table border=\"1\" class=\"dataframe\">\n",
       "  <thead>\n",
       "    <tr style=\"text-align: right;\">\n",
       "      <th></th>\n",
       "      <th>城市</th>\n",
       "      <th>中位数</th>\n",
       "      <th>均值</th>\n",
       "      <th>近一年</th>\n",
       "      <th>近半年</th>\n",
       "      <th>近一个月</th>\n",
       "    </tr>\n",
       "  </thead>\n",
       "  <tbody>\n",
       "    <tr>\n",
       "      <th>1</th>\n",
       "      <td>北京</td>\n",
       "      <td>55241</td>\n",
       "      <td>60729</td>\n",
       "      <td>-6.20%</td>\n",
       "      <td>-6.29%</td>\n",
       "      <td>-2.37%</td>\n",
       "    </tr>\n",
       "    <tr>\n",
       "      <th>2</th>\n",
       "      <td>深圳</td>\n",
       "      <td>53875</td>\n",
       "      <td>56911</td>\n",
       "      <td>2.24%</td>\n",
       "      <td>0.66%</td>\n",
       "      <td>0.35%</td>\n",
       "    </tr>\n",
       "    <tr>\n",
       "      <th>3</th>\n",
       "      <td>上海</td>\n",
       "      <td>46742</td>\n",
       "      <td>49308</td>\n",
       "      <td>6.97%</td>\n",
       "      <td>5.25%</td>\n",
       "      <td>1.41%</td>\n",
       "    </tr>\n",
       "    <tr>\n",
       "      <th>4</th>\n",
       "      <td>厦门</td>\n",
       "      <td>35192</td>\n",
       "      <td>36834</td>\n",
       "      <td>-6.96%</td>\n",
       "      <td>-4.79%</td>\n",
       "      <td>-3.33%</td>\n",
       "    </tr>\n",
       "    <tr>\n",
       "      <th>5</th>\n",
       "      <td>南京</td>\n",
       "      <td>28832</td>\n",
       "      <td>31277</td>\n",
       "      <td>-1.08%</td>\n",
       "      <td>-0.78%</td>\n",
       "      <td>3.14%</td>\n",
       "    </tr>\n",
       "    <tr>\n",
       "      <th>6</th>\n",
       "      <td>杭州</td>\n",
       "      <td>27713</td>\n",
       "      <td>30600</td>\n",
       "      <td>-9.21%</td>\n",
       "      <td>-10.24%</td>\n",
       "      <td>-3.74%</td>\n",
       "    </tr>\n",
       "    <tr>\n",
       "      <th>7</th>\n",
       "      <td>广州</td>\n",
       "      <td>27620</td>\n",
       "      <td>29684</td>\n",
       "      <td>-14.44%</td>\n",
       "      <td>-5.32%</td>\n",
       "      <td>0.69%</td>\n",
       "    </tr>\n",
       "    <tr>\n",
       "      <th>8</th>\n",
       "      <td>苏州</td>\n",
       "      <td>21557</td>\n",
       "      <td>22529</td>\n",
       "      <td>-5.88%</td>\n",
       "      <td>-9.28%</td>\n",
       "      <td>-3.32%</td>\n",
       "    </tr>\n",
       "    <tr>\n",
       "      <th>9</th>\n",
       "      <td>宁波</td>\n",
       "      <td>20601</td>\n",
       "      <td>20790</td>\n",
       "      <td>数据不足</td>\n",
       "      <td>8.35%</td>\n",
       "      <td>-1.76%</td>\n",
       "    </tr>\n",
       "    <tr>\n",
       "      <th>10</th>\n",
       "      <td>青岛</td>\n",
       "      <td>19222</td>\n",
       "      <td>19983</td>\n",
       "      <td>-15.99%</td>\n",
       "      <td>-9.12%</td>\n",
       "      <td>-0.32%</td>\n",
       "    </tr>\n",
       "    <tr>\n",
       "      <th>11</th>\n",
       "      <td>温州</td>\n",
       "      <td>18799</td>\n",
       "      <td>18701</td>\n",
       "      <td>数据不足</td>\n",
       "      <td>3.95%</td>\n",
       "      <td>1.22%</td>\n",
       "    </tr>\n",
       "    <tr>\n",
       "      <th>12</th>\n",
       "      <td>武汉</td>\n",
       "      <td>16851</td>\n",
       "      <td>17592</td>\n",
       "      <td>-8.22%</td>\n",
       "      <td>-4.01%</td>\n",
       "      <td>-0.02%</td>\n",
       "    </tr>\n",
       "    <tr>\n",
       "      <th>13</th>\n",
       "      <td>廊坊</td>\n",
       "      <td>16170</td>\n",
       "      <td>16258</td>\n",
       "      <td>-2.60%</td>\n",
       "      <td>-8.94%</td>\n",
       "      <td>0.41%</td>\n",
       "    </tr>\n",
       "    <tr>\n",
       "      <th>14</th>\n",
       "      <td>合肥</td>\n",
       "      <td>15096</td>\n",
       "      <td>15866</td>\n",
       "      <td>-5.63%</td>\n",
       "      <td>-8.08%</td>\n",
       "      <td>-1.69%</td>\n",
       "    </tr>\n",
       "    <tr>\n",
       "      <th>15</th>\n",
       "      <td>石家庄</td>\n",
       "      <td>14524</td>\n",
       "      <td>14442</td>\n",
       "      <td>-0.67%</td>\n",
       "      <td>-4.48%</td>\n",
       "      <td>-3.74%</td>\n",
       "    </tr>\n",
       "    <tr>\n",
       "      <th>16</th>\n",
       "      <td>西安</td>\n",
       "      <td>13822</td>\n",
       "      <td>14260</td>\n",
       "      <td>-3.75%</td>\n",
       "      <td>1.87%</td>\n",
       "      <td>-0.13%</td>\n",
       "    </tr>\n",
       "    <tr>\n",
       "      <th>17</th>\n",
       "      <td>无锡</td>\n",
       "      <td>13623</td>\n",
       "      <td>14860</td>\n",
       "      <td>-5.39%</td>\n",
       "      <td>-2.88%</td>\n",
       "      <td>-1.45%</td>\n",
       "    </tr>\n",
       "    <tr>\n",
       "      <th>18</th>\n",
       "      <td>成都</td>\n",
       "      <td>13367</td>\n",
       "      <td>14355</td>\n",
       "      <td>-1.37%</td>\n",
       "      <td>-4.16%</td>\n",
       "      <td>-1.33%</td>\n",
       "    </tr>\n",
       "    <tr>\n",
       "      <th>19</th>\n",
       "      <td>大连</td>\n",
       "      <td>13175</td>\n",
       "      <td>13990</td>\n",
       "      <td>12.11%</td>\n",
       "      <td>4.39%</td>\n",
       "      <td>1.79%</td>\n",
       "    </tr>\n",
       "    <tr>\n",
       "      <th>20</th>\n",
       "      <td>保定</td>\n",
       "      <td>10666</td>\n",
       "      <td>10674</td>\n",
       "      <td>数据不足</td>\n",
       "      <td>-14.74%</td>\n",
       "      <td>-5.44%</td>\n",
       "    </tr>\n",
       "    <tr>\n",
       "      <th>21</th>\n",
       "      <td>重庆</td>\n",
       "      <td>9772</td>\n",
       "      <td>9778</td>\n",
       "      <td>-17.95%</td>\n",
       "      <td>-13.13%</td>\n",
       "      <td>-8.93%</td>\n",
       "    </tr>\n",
       "    <tr>\n",
       "      <th>22</th>\n",
       "      <td>长沙</td>\n",
       "      <td>9449</td>\n",
       "      <td>9815</td>\n",
       "      <td>-15.32%</td>\n",
       "      <td>-12.40%</td>\n",
       "      <td>1.35%</td>\n",
       "    </tr>\n",
       "  </tbody>\n",
       "</table>\n",
       "</div>"
      ],
      "text/plain": [
       "     城市    中位数     均值      近一年      近半年    近一个月\n",
       "1    北京  55241  60729   -6.20%   -6.29%  -2.37%\n",
       "2    深圳  53875  56911    2.24%    0.66%   0.35%\n",
       "3    上海  46742  49308    6.97%    5.25%   1.41%\n",
       "4    厦门  35192  36834   -6.96%   -4.79%  -3.33%\n",
       "5    南京  28832  31277   -1.08%   -0.78%   3.14%\n",
       "6    杭州  27713  30600   -9.21%  -10.24%  -3.74%\n",
       "7    广州  27620  29684  -14.44%   -5.32%   0.69%\n",
       "8    苏州  21557  22529   -5.88%   -9.28%  -3.32%\n",
       "9    宁波  20601  20790     数据不足    8.35%  -1.76%\n",
       "10   青岛  19222  19983  -15.99%   -9.12%  -0.32%\n",
       "11   温州  18799  18701     数据不足    3.95%   1.22%\n",
       "12   武汉  16851  17592   -8.22%   -4.01%  -0.02%\n",
       "13   廊坊  16170  16258   -2.60%   -8.94%   0.41%\n",
       "14   合肥  15096  15866   -5.63%   -8.08%  -1.69%\n",
       "15  石家庄  14524  14442   -0.67%   -4.48%  -3.74%\n",
       "16   西安  13822  14260   -3.75%    1.87%  -0.13%\n",
       "17   无锡  13623  14860   -5.39%   -2.88%  -1.45%\n",
       "18   成都  13367  14355   -1.37%   -4.16%  -1.33%\n",
       "19   大连  13175  13990   12.11%    4.39%   1.79%\n",
       "20   保定  10666  10674     数据不足  -14.74%  -5.44%\n",
       "21   重庆   9772   9778  -17.95%  -13.13%  -8.93%\n",
       "22   长沙   9449   9815  -15.32%  -12.40%   1.35%"
      ]
     },
     "metadata": {},
     "output_type": "display_data"
    }
   ],
   "source": [
    "#计算城市排名\n",
    "if not os.path.exists('fig/allcity'):\n",
    "    os.makedirs('fig/allcity')\n",
    "os.system('rm fig/allcity/*')\n",
    "median = {}\n",
    "mean = {}\n",
    "yearChange = {}\n",
    "change = {}\n",
    "monthChange = {}\n",
    "for city in cityList:\n",
    "    median[city] = int(res[city]['median_price'][-1])\n",
    "    mean[city] = int(res[city]['mean_price'][-1])\n",
    "    try:\n",
    "        yearChange[city] = \"%.2f%%\"%(100 * (res[city]['median_price'][-1]/res[city]['median_price'][-365] - 1))\n",
    "    except:\n",
    "        yearChange[city] = '数据不足'\n",
    "    change[city] = \"%.2f%%\"%(100 * (res[city]['median_price'][-1]/res[city]['median_price'][-180] - 1))\n",
    "    monthChange[city] = \"%.2f%%\"%(100 * (res[city]['median_price'][-1]/res[city]['median_price'][-30] - 1))\n",
    "\n",
    "cityRank = pd.DataFrame({'中位数':median, '均值':mean, \n",
    "                         '近一年':yearChange,\n",
    "                         '近半年':change, '近一个月':monthChange}).sort_values('中位数', ascending = False)\n",
    "cityRank['城市'] = cityRank.index\n",
    "cityRank.index = range(1, len(cityRank) + 1)\n",
    "cityRank = cityRank.loc[:,['城市', '中位数', '均值', '近一年', '近半年','近一个月']]\n",
    "display(cityRank)\n",
    "for index, row in cityRank.iterrows():\n",
    "    city = row['城市']\n",
    "    index = int(index)\n",
    "    cmd = 'cp fig/%s/%s.png fig/allcity/%.2d.%s.png'%(city, city, index, city)\n",
    "    os.system(cmd)"
   ]
  },
  {
   "cell_type": "markdown",
   "metadata": {},
   "source": [
    "# 合并历史数据"
   ]
  },
  {
   "cell_type": "code",
   "execution_count": null,
   "metadata": {},
   "outputs": [],
   "source": [
    "from common import read\n",
    "cityList = ['北京', '上海', '深圳', '杭州', '广州', '长沙', '厦门', '宁波', '合肥', '成都','重庆','武汉',\n",
    "            '西安','石家庄','苏州','南京', '大连', '温州']\n",
    "for city in cityList:\n",
    "    df = read(city)\n",
    "    df.to_csv('data/all/%s.csv'%city, index=False)"
   ]
  },
  {
   "cell_type": "code",
   "execution_count": null,
   "metadata": {},
   "outputs": [],
   "source": [
    "if not os.path.exists('data/res'):\n",
    "    os.makedirs('data/res')\n",
    "for city in cityList:\n",
    "    res[city].to_csv('data/res/'+city+'.csv')"
   ]
  },
  {
   "cell_type": "code",
   "execution_count": null,
   "metadata": {},
   "outputs": [],
   "source": [
    "xiaoqu= open('xiaoqu/lfxiaoqu.txt', 'w')\n",
    "xiaoquList = df['小区'].unique()\n",
    "print(len(xiaoquList))\n",
    "for xq in xiaoquList:\n",
    "    if str(xq) != 'nan':\n",
    "        xiaoqu.write(xq+'\\n')\n",
    "    \n",
    "xiaoqu.close()"
   ]
  },
  {
   "cell_type": "code",
   "execution_count": null,
   "metadata": {},
   "outputs": [],
   "source": [
    "city = 'alllf'\n",
    "df = read(city)\n",
    "#df.drop_duplicates(subset=['链家编号'])\n",
    "print(df.columns)\n",
    "print(len(df))\n",
    "df.to_csv(city+'.csv')"
   ]
  },
  {
   "cell_type": "code",
   "execution_count": null,
   "metadata": {},
   "outputs": [],
   "source": [
    "df['下辖区'].unique()"
   ]
  },
  {
   "cell_type": "code",
   "execution_count": null,
   "metadata": {},
   "outputs": [],
   "source": [
    "from common import plot_dfs\n",
    "import pandas as pd\n",
    "def plotDianti(df):\n",
    "    pd.options.display.max_columns = None\n",
    "    df_dt= df.loc[df['电梯'] == '有']\n",
    "    df_ndt= df.loc[df['电梯'] != '有']\n",
    "    print('有电梯', len(df_dt))\n",
    "    print('无电梯',len(df_ndt))\n",
    "    plot_dfs([df_ndt,df_dt], '%s有无电梯'%city, ['无电梯', '电梯'], 30, '2015-01-01')\n",
    "for city in cityList:\n",
    "    df = read(city)\n",
    "    plotDianti(df)"
   ]
  },
  {
   "cell_type": "code",
   "execution_count": null,
   "metadata": {
    "scrolled": true
   },
   "outputs": [],
   "source": [
    "from common import plot_df\n",
    "df_sjs = df.loc[df['下辖区']=='石景山']\n",
    "xiaoquList = df_sjs['小区'].unique()\n",
    "for xiaoqu in xiaoquList:\n",
    "    plot_df(df_sjs.loc[df_sjs[\"小区\"]== xiaoqu], \"石景山\", xiaoqu, True, 10)"
   ]
  },
  {
   "cell_type": "code",
   "execution_count": null,
   "metadata": {},
   "outputs": [],
   "source": [
    "import pandas as pd\n",
    "x=df_sjs.groupby('小区')\n",
    "\n",
    "x_mean  = x.mean()\n",
    "x_size = x.size()\n",
    "x_mean = x_mean.merge(pd.DataFrame({'size':x_size}), left_index = True, right_index = True)\n",
    "x_mean=x_mean.loc[x_size>=5]\n",
    "x_mean=x_mean.sort_values(by='成交价(元/平)', ascending=False).loc[:,[\"建筑面积\",\"成交价(元/平)\",\"售价(万)\", 'size']]\n",
    "x_mean"
   ]
  },
  {
   "cell_type": "code",
   "execution_count": null,
   "metadata": {
    "scrolled": true
   },
   "outputs": [],
   "source": [
    "from common import plot, plot_dfs, plot_df\n",
    "MA = True\n",
    "ma_length = 10\n",
    "def plot_xiaoqu(xiaoqu, df):\n",
    "    df_xiaoqu = df.dropna(subset=['小区'])\n",
    "    df_xiaoqu = df_xiaoqu.loc[df_xiaoqu['小区'].str.contains(xiaoqu)]\n",
    "    #plot_dfs([df, df_xiaoqu], xiaoqu, ['全市', xiaoqu], ma_length, '2015-01-01')\n",
    "    plot_df(df_xiaoqu, city, xiaoqu, MA, ma_length)\n",
    "    \n",
    "ma_length = 30\n",
    "#plot_xiaoqu('八角', data['北京'])\n",
    "plot_xiaoqu('观林园', df)"
   ]
  },
  {
   "cell_type": "code",
   "execution_count": null,
   "metadata": {
    "scrolled": true
   },
   "outputs": [],
   "source": [
    "pd.options.display.max_columns = None\n",
    "#df.loc[df['小区'].str.contains('团结湖南里')]\n",
    "df.loc[df['小区'].str.contains('爱乐')].sort_values(by='成交时间', ascending=False)\n",
    "#df.loc[df['小区'].str.contains('平乐园')].sort_values(by='成交时间', ascending=False)"
   ]
  },
  {
   "cell_type": "code",
   "execution_count": null,
   "metadata": {},
   "outputs": [],
   "source": [
    "x=df.groupby('小区')\n",
    "x_mean  = x.mean()\n",
    "x_size = x.size()\n",
    "#x_size\n",
    "x_mean=x_mean.loc[x_size>=1]\n",
    "x_mean=x_mean.sort_values(by='成交价(元/平)', ascending=False).loc[:,[\"建筑面积\",\"成交价(元/平)\",\"售价(万)\"]]\n",
    "x_mean"
   ]
  },
  {
   "cell_type": "code",
   "execution_count": null,
   "metadata": {},
   "outputs": [],
   "source": [
    "x_mean.index[:10]"
   ]
  },
  {
   "cell_type": "code",
   "execution_count": null,
   "metadata": {},
   "outputs": [],
   "source": [
    "df.sort_values('售价(万)', ascending=False).loc[:,[\"小区\", \"建筑面积\",\"成交价(元/平)\", \"售价(万)\"]]"
   ]
  },
  {
   "cell_type": "code",
   "execution_count": null,
   "metadata": {},
   "outputs": [],
   "source": [
    "df.sort_values('成交价(元/平)', ascending=False).loc[:,[\"小区\", \"建筑面积\",\"成交价(元/平)\", \"售价(万)\",\"成交时间\"]]"
   ]
  },
  {
   "cell_type": "code",
   "execution_count": null,
   "metadata": {},
   "outputs": [],
   "source": [
    "ma_length = 10\n",
    "mean_price = df['成交价(元/平)'].mean()\n",
    "price_std = df['成交价(元/平)'].std()\n",
    "print('mean:', mean_price, 'std:', price_std)\n",
    "threshold = 1.3\n",
    "#high_df = df.loc[df['成交价(元/平)']>= mean_price + threshold * price_std]\n",
    "#low_df =  df.loc[df['成交价(元/平)']< mean_price - threshold* price_std]\n",
    "#medium_df = df.loc[df['成交价(元/平)']< mean_price + threshold * price_std]\n",
    "#medium_df = medium_df.loc[medium_df['成交价(元/平)']>= mean_price - threshold * price_std]\n",
    "sort_key = '成交价(元/平)'#\n",
    "#sort_key = '售价(万)'\n",
    "df = df.sort_values(sort_key, ascending = False)\n",
    "count = len(df)//3\n",
    "high_df = df.iloc[:count]\n",
    "low_df = df.iloc[-count:]\n",
    "medium_df = df.iloc[count:-count]\n",
    "print(len(high_df), len(low_df), len(medium_df))\n",
    "print(high_df[sort_key].mean(), medium_df[sort_key].mean(), low_df[sort_key].mean() )\n",
    "ma_length = 30\n",
    "def getPriceSeries(df):\n",
    "    gp = df.groupby(['成交时间'])['成交价(元/平)']\n",
    "    res=pd.DataFrame({\"volume\":gp.size(),\"median_price\":gp.median(), \"mean_price\":gp.mean()})\n",
    "    res = res.sort_index()\n",
    "    res = res.iloc[:len(res)-1]\n",
    "    res = get_moving_average(res, ma_length)\n",
    "    return res\n",
    "highSeries=getPriceSeries(high_df)\n",
    "mediumSeries=getPriceSeries(medium_df)\n",
    "lowSeries=getPriceSeries(low_df)\n"
   ]
  },
  {
   "cell_type": "code",
   "execution_count": null,
   "metadata": {},
   "outputs": [],
   "source": [
    "fig, ax = plt.subplots()\n",
    "ax.plot(highSeries['mean_price']/highSeries['mean_price'][0])\n",
    "ax.plot(mediumSeries['mean_price']/mediumSeries['mean_price'][0])\n",
    "ax.plot(lowSeries['mean_price']/lowSeries['mean_price'][0])\n",
    "plt.xticks(rotation=45)\n",
    "ax.legend(['high=%.f yuan'%(high_df[sort_key].mean()),\n",
    "           'medium=%.f yuan'%medium_df[sort_key].mean(),\n",
    "           'low=%.f yuan'%low_df[sort_key].mean()])\n",
    "xticks = ax.xaxis.get_major_ticks()\n",
    "interval = len(xticks)// 10\n",
    "ax.set_xticks(ax.get_xticks()[::interval])\n",
    "'done'"
   ]
  },
  {
   "cell_type": "code",
   "execution_count": null,
   "metadata": {},
   "outputs": [],
   "source": [
    "plt.axis"
   ]
  },
  {
   "cell_type": "code",
   "execution_count": null,
   "metadata": {},
   "outputs": [],
   "source": [
    "plt.plot(highSeries['median_price']/highSeries['median_price'][0])\n",
    "plt.plot(mediumSeries['median_price']/mediumSeries['median_price'][0])\n",
    "plt.plot(lowSeries['median_price']/lowSeries['median_price'][0])\n",
    "plt.xticks(rotation=90)\n",
    "plt.legend(['high','medium', 'low'])\n"
   ]
  },
  {
   "cell_type": "code",
   "execution_count": null,
   "metadata": {},
   "outputs": [],
   "source": [
    "def plotAllDistrict(df, ma_length = 10):\n",
    "    districts = list(set(df['下辖区']))\n",
    "    legend = ['beijing']\n",
    "    data = []\n",
    "    gp = df.groupby(['成交时间'])['成交价(元/平)']\n",
    "    res=pd.DataFrame({\"volume\":gp.size(),\"median_price\":gp.median(), \"mean_price\":gp.mean()})\n",
    "    res = res.iloc[:len(res)-1,:]\n",
    "    res = get_moving_average(res, ma_length)\n",
    "\n",
    "    data.append(res)\n",
    "    for district in districts:\n",
    "        gp = df.loc[df['下辖区']==district].groupby(['成交时间'])\n",
    "        res = pd.DataFrame({'volume':gp.size(),'mean_price':gp['成交价(元/平)'].mean(), 'median_price':gp['成交价(元/平)'].median()})\n",
    "        res = res.iloc[:len(res) -1,:]\n",
    "        res = get_moving_average(res, ma_length)\n",
    "        if len(res) < 1:\n",
    "            continue\n",
    "        data.append(res)\n",
    "        title = pinyin(district)\n",
    "        if district == '朝阳':\n",
    "            title = 'chao yang'\n",
    "        elif district == '长宁':\n",
    "            title = 'chang ning'\n",
    "        elif district == '闵行':\n",
    "            title = 'min hang'\n",
    "        else:\n",
    "            title = \" \".join([x[0] for x in title])\n",
    "        legend.append(title)\n",
    "   \n",
    "    for i in range(len(data)):\n",
    "        plt.plot(data[i]['mean_price']/data[i]['mean_price'].iloc[0])\n",
    "    plt.xticks(rotation=90)\n",
    "    plt.legend(legend)\n",
    "plotAllDistrict(df, 30)\n",
    "    "
   ]
  },
  {
   "cell_type": "code",
   "execution_count": null,
   "metadata": {},
   "outputs": [],
   "source": [
    "city = '廊坊'\n",
    "MA = True\n",
    "ma_length = 30\n",
    "start_date = '2015-01-01'\n",
    "df = read(city)\n",
    "res = plotCity(df)\n",
    "plotAllDistrict(df)"
   ]
  },
  {
   "cell_type": "code",
   "execution_count": null,
   "metadata": {},
   "outputs": [],
   "source": [
    "len(df)"
   ]
  },
  {
   "cell_type": "code",
   "execution_count": null,
   "metadata": {},
   "outputs": [],
   "source": []
  }
 ],
 "metadata": {
  "kernelspec": {
   "display_name": "Python 3",
   "language": "python",
   "name": "python3"
  },
  "language_info": {
   "codemirror_mode": {
    "name": "ipython",
    "version": 3
   },
   "file_extension": ".py",
   "mimetype": "text/x-python",
   "name": "python",
   "nbconvert_exporter": "python",
   "pygments_lexer": "ipython3",
   "version": "3.6.5"
  }
 },
 "nbformat": 4,
 "nbformat_minor": 2
}
